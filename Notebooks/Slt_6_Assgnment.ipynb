{
  "nbformat": 4,
  "nbformat_minor": 0,
  "metadata": {
    "colab": {
      "name": "Slt_6_Assgnment.ipynb",
      "provenance": [],
      "authorship_tag": "ABX9TyOyTj4+sYn4Sesv04K2kV9g",
      "include_colab_link": true
    },
    "kernelspec": {
      "name": "python3",
      "display_name": "Python 3"
    },
    "language_info": {
      "name": "python"
    }
  },
  "cells": [
    {
      "cell_type": "markdown",
      "metadata": {
        "id": "view-in-github",
        "colab_type": "text"
      },
      "source": [
        "<a href=\"https://colab.research.google.com/github/MmoniqueL/ML_Heart-Disease/blob/main/Notebooks/Slt_6_Assgnment.ipynb\" target=\"_parent\"><img src=\"https://colab.research.google.com/assets/colab-badge.svg\" alt=\"Open In Colab\"/></a>"
      ]
    },
    {
      "cell_type": "markdown",
      "source": [
        "#**Introdução**\n",
        "\n",
        "Com o objetivo de avaliar a saúde cardiáca dos pacientes com maior rapidez e eficiência, foi disponibilizado um conjunto de dados que contém informações do estado geral de saúde de pacientes com o intuito de avaliaar a influência desses fatores na condição cardíaca dos pacientes.\n",
        "\n",
        "Neste trabalho busca-se construir um modelo de Machine Learning com hiperparâmetros optimizados, que possa prever se o paciente tem ou não problemas no coração. \n",
        "\n",
        "Ao todo, existem 14 variáveis no conjunto de dados:\n",
        "\n",
        "**age**: Idade da pessoa em anos\n",
        "\n",
        "**sex**: Sexo da pessoa (1 = mascculino, 0 = feminino)\n",
        "\n",
        "**cp**: Nível de dor (1:angina típico,2: angina atípico,3: dor não-anginal,4: assintomático)\n",
        "\n",
        "**trestbps**: Pressão sanguínea em repouso\n",
        "\n",
        "**chol**: Colesterol em mg/dl\n",
        "\n",
        "**fbs**: Teste de diabetes (> 120 mg/dl, 1 = verdadeiro; 0 = falso)\n",
        "\n",
        "**restecg**: Eletrocardiograma em repouso (0 = normal, 1 = anormalidade ST-T , 2 = provável hipertrofia ventricular, segundo critério de Estes)\n",
        "\n",
        "**thalach**: Rítmo cardíaco máximo\n",
        "\n",
        "**exang**: Angina induzida por exercício (1 = sim; 0 = não)\n",
        "\n",
        "**oldpeak**: Depressão de ST induzida por exercício em relação ao\n",
        "repouso\n",
        "\n",
        "**slope**:  Tipo de inclinação do segmento ST de pico do exercício (1: ascendente, Value 2: horizontal, Value 3: descendente)\n",
        "\n",
        "**ca**: número de vasos sanguínios ressaltados (0-3)\n",
        "\n",
        "**thal**: Thalassemia (3 = normal; 6 = defeito consertado; 7 = defeito reversível)\n",
        "\n",
        "**target**: Doença no coração (0 = não, 1 = sim)"
      ],
      "metadata": {
        "id": "M122fjjK1qZX"
      }
    },
    {
      "cell_type": "markdown",
      "source": [
        "#1. Importando os Dados"
      ],
      "metadata": {
        "id": "guOL8lbhJefq"
      }
    },
    {
      "cell_type": "markdown",
      "source": [
        "##a) Importando bibliotecas utilizadas\n",
        "\n",
        "\n"
      ],
      "metadata": {
        "id": "8992OMPzhyFY"
      }
    },
    {
      "cell_type": "code",
      "execution_count": 57,
      "metadata": {
        "id": "WCVdhKknJO3B"
      },
      "outputs": [],
      "source": [
        "import pandas as pd\n",
        "import numpy as np\n",
        "import seaborn as sns\n",
        "import matplotlib.pyplot as plt\n",
        "\n",
        "from sklearn.tree import DecisionTreeClassifier\n",
        "from sklearn.metrics import accuracy_score\n",
        "from sklearn.model_selection import train_test_split\n",
        "from sklearn.preprocessing import StandardScaler #Ref: https://scikit-learn.org/stable/modules/generated/sklearn.preprocessing.StandardScaler.html#sklearn.preprocessing.StandardScaler\n",
        "from sklearn.metrics import f1_score"
      ]
    },
    {
      "cell_type": "markdown",
      "source": [
        "##b) Importando Dados"
      ],
      "metadata": {
        "id": "v8q7OLaRh9Fa"
      }
    },
    {
      "cell_type": "code",
      "source": [
        "# Carregando base de dados\n",
        "\n",
        "df = pd.read_csv(\"/content/heart.csv\")"
      ],
      "metadata": {
        "id": "fGtMmOgoJ8Ux"
      },
      "execution_count": 2,
      "outputs": []
    },
    {
      "cell_type": "code",
      "source": [
        "#Visualizar dados importados\n",
        "df.head()"
      ],
      "metadata": {
        "colab": {
          "base_uri": "https://localhost:8080/",
          "height": 270
        },
        "id": "obNvw7KpKf5H",
        "outputId": "7d6d35c3-8c00-4561-c97a-fb0976cf6345"
      },
      "execution_count": 3,
      "outputs": [
        {
          "output_type": "execute_result",
          "data": {
            "text/html": [
              "\n",
              "  <div id=\"df-88bfc8d8-bf7c-4fbc-9c0c-026afb5c88c2\">\n",
              "    <div class=\"colab-df-container\">\n",
              "      <div>\n",
              "<style scoped>\n",
              "    .dataframe tbody tr th:only-of-type {\n",
              "        vertical-align: middle;\n",
              "    }\n",
              "\n",
              "    .dataframe tbody tr th {\n",
              "        vertical-align: top;\n",
              "    }\n",
              "\n",
              "    .dataframe thead th {\n",
              "        text-align: right;\n",
              "    }\n",
              "</style>\n",
              "<table border=\"1\" class=\"dataframe\">\n",
              "  <thead>\n",
              "    <tr style=\"text-align: right;\">\n",
              "      <th></th>\n",
              "      <th>age</th>\n",
              "      <th>sex</th>\n",
              "      <th>cp</th>\n",
              "      <th>trestbps</th>\n",
              "      <th>chol</th>\n",
              "      <th>fbs</th>\n",
              "      <th>restecg</th>\n",
              "      <th>thalach</th>\n",
              "      <th>exang</th>\n",
              "      <th>oldpeak</th>\n",
              "      <th>slope</th>\n",
              "      <th>ca</th>\n",
              "      <th>thal</th>\n",
              "      <th>target</th>\n",
              "    </tr>\n",
              "  </thead>\n",
              "  <tbody>\n",
              "    <tr>\n",
              "      <th>0</th>\n",
              "      <td>63</td>\n",
              "      <td>1</td>\n",
              "      <td>3</td>\n",
              "      <td>145</td>\n",
              "      <td>233</td>\n",
              "      <td>1</td>\n",
              "      <td>0</td>\n",
              "      <td>150</td>\n",
              "      <td>0</td>\n",
              "      <td>2.3</td>\n",
              "      <td>0</td>\n",
              "      <td>0</td>\n",
              "      <td>1</td>\n",
              "      <td>1</td>\n",
              "    </tr>\n",
              "    <tr>\n",
              "      <th>1</th>\n",
              "      <td>37</td>\n",
              "      <td>1</td>\n",
              "      <td>2</td>\n",
              "      <td>130</td>\n",
              "      <td>250</td>\n",
              "      <td>0</td>\n",
              "      <td>1</td>\n",
              "      <td>187</td>\n",
              "      <td>0</td>\n",
              "      <td>3.5</td>\n",
              "      <td>0</td>\n",
              "      <td>0</td>\n",
              "      <td>2</td>\n",
              "      <td>1</td>\n",
              "    </tr>\n",
              "    <tr>\n",
              "      <th>2</th>\n",
              "      <td>41</td>\n",
              "      <td>0</td>\n",
              "      <td>1</td>\n",
              "      <td>130</td>\n",
              "      <td>204</td>\n",
              "      <td>0</td>\n",
              "      <td>0</td>\n",
              "      <td>172</td>\n",
              "      <td>0</td>\n",
              "      <td>1.4</td>\n",
              "      <td>2</td>\n",
              "      <td>0</td>\n",
              "      <td>2</td>\n",
              "      <td>1</td>\n",
              "    </tr>\n",
              "    <tr>\n",
              "      <th>3</th>\n",
              "      <td>56</td>\n",
              "      <td>1</td>\n",
              "      <td>1</td>\n",
              "      <td>120</td>\n",
              "      <td>236</td>\n",
              "      <td>0</td>\n",
              "      <td>1</td>\n",
              "      <td>178</td>\n",
              "      <td>0</td>\n",
              "      <td>0.8</td>\n",
              "      <td>2</td>\n",
              "      <td>0</td>\n",
              "      <td>2</td>\n",
              "      <td>1</td>\n",
              "    </tr>\n",
              "    <tr>\n",
              "      <th>4</th>\n",
              "      <td>57</td>\n",
              "      <td>0</td>\n",
              "      <td>0</td>\n",
              "      <td>120</td>\n",
              "      <td>354</td>\n",
              "      <td>0</td>\n",
              "      <td>1</td>\n",
              "      <td>163</td>\n",
              "      <td>1</td>\n",
              "      <td>0.6</td>\n",
              "      <td>2</td>\n",
              "      <td>0</td>\n",
              "      <td>2</td>\n",
              "      <td>1</td>\n",
              "    </tr>\n",
              "  </tbody>\n",
              "</table>\n",
              "</div>\n",
              "      <button class=\"colab-df-convert\" onclick=\"convertToInteractive('df-88bfc8d8-bf7c-4fbc-9c0c-026afb5c88c2')\"\n",
              "              title=\"Convert this dataframe to an interactive table.\"\n",
              "              style=\"display:none;\">\n",
              "        \n",
              "  <svg xmlns=\"http://www.w3.org/2000/svg\" height=\"24px\"viewBox=\"0 0 24 24\"\n",
              "       width=\"24px\">\n",
              "    <path d=\"M0 0h24v24H0V0z\" fill=\"none\"/>\n",
              "    <path d=\"M18.56 5.44l.94 2.06.94-2.06 2.06-.94-2.06-.94-.94-2.06-.94 2.06-2.06.94zm-11 1L8.5 8.5l.94-2.06 2.06-.94-2.06-.94L8.5 2.5l-.94 2.06-2.06.94zm10 10l.94 2.06.94-2.06 2.06-.94-2.06-.94-.94-2.06-.94 2.06-2.06.94z\"/><path d=\"M17.41 7.96l-1.37-1.37c-.4-.4-.92-.59-1.43-.59-.52 0-1.04.2-1.43.59L10.3 9.45l-7.72 7.72c-.78.78-.78 2.05 0 2.83L4 21.41c.39.39.9.59 1.41.59.51 0 1.02-.2 1.41-.59l7.78-7.78 2.81-2.81c.8-.78.8-2.07 0-2.86zM5.41 20L4 18.59l7.72-7.72 1.47 1.35L5.41 20z\"/>\n",
              "  </svg>\n",
              "      </button>\n",
              "      \n",
              "  <style>\n",
              "    .colab-df-container {\n",
              "      display:flex;\n",
              "      flex-wrap:wrap;\n",
              "      gap: 12px;\n",
              "    }\n",
              "\n",
              "    .colab-df-convert {\n",
              "      background-color: #E8F0FE;\n",
              "      border: none;\n",
              "      border-radius: 50%;\n",
              "      cursor: pointer;\n",
              "      display: none;\n",
              "      fill: #1967D2;\n",
              "      height: 32px;\n",
              "      padding: 0 0 0 0;\n",
              "      width: 32px;\n",
              "    }\n",
              "\n",
              "    .colab-df-convert:hover {\n",
              "      background-color: #E2EBFA;\n",
              "      box-shadow: 0px 1px 2px rgba(60, 64, 67, 0.3), 0px 1px 3px 1px rgba(60, 64, 67, 0.15);\n",
              "      fill: #174EA6;\n",
              "    }\n",
              "\n",
              "    [theme=dark] .colab-df-convert {\n",
              "      background-color: #3B4455;\n",
              "      fill: #D2E3FC;\n",
              "    }\n",
              "\n",
              "    [theme=dark] .colab-df-convert:hover {\n",
              "      background-color: #434B5C;\n",
              "      box-shadow: 0px 1px 3px 1px rgba(0, 0, 0, 0.15);\n",
              "      filter: drop-shadow(0px 1px 2px rgba(0, 0, 0, 0.3));\n",
              "      fill: #FFFFFF;\n",
              "    }\n",
              "  </style>\n",
              "\n",
              "      <script>\n",
              "        const buttonEl =\n",
              "          document.querySelector('#df-88bfc8d8-bf7c-4fbc-9c0c-026afb5c88c2 button.colab-df-convert');\n",
              "        buttonEl.style.display =\n",
              "          google.colab.kernel.accessAllowed ? 'block' : 'none';\n",
              "\n",
              "        async function convertToInteractive(key) {\n",
              "          const element = document.querySelector('#df-88bfc8d8-bf7c-4fbc-9c0c-026afb5c88c2');\n",
              "          const dataTable =\n",
              "            await google.colab.kernel.invokeFunction('convertToInteractive',\n",
              "                                                     [key], {});\n",
              "          if (!dataTable) return;\n",
              "\n",
              "          const docLinkHtml = 'Like what you see? Visit the ' +\n",
              "            '<a target=\"_blank\" href=https://colab.research.google.com/notebooks/data_table.ipynb>data table notebook</a>'\n",
              "            + ' to learn more about interactive tables.';\n",
              "          element.innerHTML = '';\n",
              "          dataTable['output_type'] = 'display_data';\n",
              "          await google.colab.output.renderOutput(dataTable, element);\n",
              "          const docLink = document.createElement('div');\n",
              "          docLink.innerHTML = docLinkHtml;\n",
              "          element.appendChild(docLink);\n",
              "        }\n",
              "      </script>\n",
              "    </div>\n",
              "  </div>\n",
              "  "
            ],
            "text/plain": [
              "   age  sex  cp  trestbps  chol  fbs  ...  exang  oldpeak  slope  ca  thal  target\n",
              "0   63    1   3       145   233    1  ...      0      2.3      0   0     1       1\n",
              "1   37    1   2       130   250    0  ...      0      3.5      0   0     2       1\n",
              "2   41    0   1       130   204    0  ...      0      1.4      2   0     2       1\n",
              "3   56    1   1       120   236    0  ...      0      0.8      2   0     2       1\n",
              "4   57    0   0       120   354    0  ...      1      0.6      2   0     2       1\n",
              "\n",
              "[5 rows x 14 columns]"
            ]
          },
          "metadata": {},
          "execution_count": 3
        }
      ]
    },
    {
      "cell_type": "markdown",
      "source": [
        "#2. Análise D;escritiva"
      ],
      "metadata": {
        "id": "iN2LsqbUhgNS"
      }
    },
    {
      "cell_type": "code",
      "source": [
        "df.info()"
      ],
      "metadata": {
        "colab": {
          "base_uri": "https://localhost:8080/"
        },
        "id": "iFPiGq2PLHky",
        "outputId": "eaba26ab-1418-432e-dc05-819be6568ac9"
      },
      "execution_count": 4,
      "outputs": [
        {
          "output_type": "stream",
          "name": "stdout",
          "text": [
            "<class 'pandas.core.frame.DataFrame'>\n",
            "RangeIndex: 303 entries, 0 to 302\n",
            "Data columns (total 14 columns):\n",
            " #   Column    Non-Null Count  Dtype  \n",
            "---  ------    --------------  -----  \n",
            " 0   age       303 non-null    int64  \n",
            " 1   sex       303 non-null    int64  \n",
            " 2   cp        303 non-null    int64  \n",
            " 3   trestbps  303 non-null    int64  \n",
            " 4   chol      303 non-null    int64  \n",
            " 5   fbs       303 non-null    int64  \n",
            " 6   restecg   303 non-null    int64  \n",
            " 7   thalach   303 non-null    int64  \n",
            " 8   exang     303 non-null    int64  \n",
            " 9   oldpeak   303 non-null    float64\n",
            " 10  slope     303 non-null    int64  \n",
            " 11  ca        303 non-null    int64  \n",
            " 12  thal      303 non-null    int64  \n",
            " 13  target    303 non-null    int64  \n",
            "dtypes: float64(1), int64(13)\n",
            "memory usage: 33.3 KB\n"
          ]
        }
      ]
    },
    {
      "cell_type": "code",
      "source": [
        " #Limiting floats output to 3 decimal points\n",
        "pd.set_option(\"display.float_format\", lambda x: \"{:.3f}\".format(x))\n",
        "\n",
        "\n",
        "#EDA do conjunto de dados\n",
        "df.describe().T\n"
      ],
      "metadata": {
        "colab": {
          "base_uri": "https://localhost:8080/",
          "height": 487
        },
        "id": "BcPG7XFoLeLg",
        "outputId": "14f2dbc3-369a-4e78-981a-f038680341b2"
      },
      "execution_count": 5,
      "outputs": [
        {
          "output_type": "execute_result",
          "data": {
            "text/html": [
              "\n",
              "  <div id=\"df-c7196a59-34ef-401f-b94c-fa80c178d179\">\n",
              "    <div class=\"colab-df-container\">\n",
              "      <div>\n",
              "<style scoped>\n",
              "    .dataframe tbody tr th:only-of-type {\n",
              "        vertical-align: middle;\n",
              "    }\n",
              "\n",
              "    .dataframe tbody tr th {\n",
              "        vertical-align: top;\n",
              "    }\n",
              "\n",
              "    .dataframe thead th {\n",
              "        text-align: right;\n",
              "    }\n",
              "</style>\n",
              "<table border=\"1\" class=\"dataframe\">\n",
              "  <thead>\n",
              "    <tr style=\"text-align: right;\">\n",
              "      <th></th>\n",
              "      <th>count</th>\n",
              "      <th>mean</th>\n",
              "      <th>std</th>\n",
              "      <th>min</th>\n",
              "      <th>25%</th>\n",
              "      <th>50%</th>\n",
              "      <th>75%</th>\n",
              "      <th>max</th>\n",
              "    </tr>\n",
              "  </thead>\n",
              "  <tbody>\n",
              "    <tr>\n",
              "      <th>age</th>\n",
              "      <td>303.000</td>\n",
              "      <td>54.366</td>\n",
              "      <td>9.082</td>\n",
              "      <td>29.000</td>\n",
              "      <td>47.500</td>\n",
              "      <td>55.000</td>\n",
              "      <td>61.000</td>\n",
              "      <td>77.000</td>\n",
              "    </tr>\n",
              "    <tr>\n",
              "      <th>sex</th>\n",
              "      <td>303.000</td>\n",
              "      <td>0.683</td>\n",
              "      <td>0.466</td>\n",
              "      <td>0.000</td>\n",
              "      <td>0.000</td>\n",
              "      <td>1.000</td>\n",
              "      <td>1.000</td>\n",
              "      <td>1.000</td>\n",
              "    </tr>\n",
              "    <tr>\n",
              "      <th>cp</th>\n",
              "      <td>303.000</td>\n",
              "      <td>0.967</td>\n",
              "      <td>1.032</td>\n",
              "      <td>0.000</td>\n",
              "      <td>0.000</td>\n",
              "      <td>1.000</td>\n",
              "      <td>2.000</td>\n",
              "      <td>3.000</td>\n",
              "    </tr>\n",
              "    <tr>\n",
              "      <th>trestbps</th>\n",
              "      <td>303.000</td>\n",
              "      <td>131.624</td>\n",
              "      <td>17.538</td>\n",
              "      <td>94.000</td>\n",
              "      <td>120.000</td>\n",
              "      <td>130.000</td>\n",
              "      <td>140.000</td>\n",
              "      <td>200.000</td>\n",
              "    </tr>\n",
              "    <tr>\n",
              "      <th>chol</th>\n",
              "      <td>303.000</td>\n",
              "      <td>246.264</td>\n",
              "      <td>51.831</td>\n",
              "      <td>126.000</td>\n",
              "      <td>211.000</td>\n",
              "      <td>240.000</td>\n",
              "      <td>274.500</td>\n",
              "      <td>564.000</td>\n",
              "    </tr>\n",
              "    <tr>\n",
              "      <th>fbs</th>\n",
              "      <td>303.000</td>\n",
              "      <td>0.149</td>\n",
              "      <td>0.356</td>\n",
              "      <td>0.000</td>\n",
              "      <td>0.000</td>\n",
              "      <td>0.000</td>\n",
              "      <td>0.000</td>\n",
              "      <td>1.000</td>\n",
              "    </tr>\n",
              "    <tr>\n",
              "      <th>restecg</th>\n",
              "      <td>303.000</td>\n",
              "      <td>0.528</td>\n",
              "      <td>0.526</td>\n",
              "      <td>0.000</td>\n",
              "      <td>0.000</td>\n",
              "      <td>1.000</td>\n",
              "      <td>1.000</td>\n",
              "      <td>2.000</td>\n",
              "    </tr>\n",
              "    <tr>\n",
              "      <th>thalach</th>\n",
              "      <td>303.000</td>\n",
              "      <td>149.647</td>\n",
              "      <td>22.905</td>\n",
              "      <td>71.000</td>\n",
              "      <td>133.500</td>\n",
              "      <td>153.000</td>\n",
              "      <td>166.000</td>\n",
              "      <td>202.000</td>\n",
              "    </tr>\n",
              "    <tr>\n",
              "      <th>exang</th>\n",
              "      <td>303.000</td>\n",
              "      <td>0.327</td>\n",
              "      <td>0.470</td>\n",
              "      <td>0.000</td>\n",
              "      <td>0.000</td>\n",
              "      <td>0.000</td>\n",
              "      <td>1.000</td>\n",
              "      <td>1.000</td>\n",
              "    </tr>\n",
              "    <tr>\n",
              "      <th>oldpeak</th>\n",
              "      <td>303.000</td>\n",
              "      <td>1.040</td>\n",
              "      <td>1.161</td>\n",
              "      <td>0.000</td>\n",
              "      <td>0.000</td>\n",
              "      <td>0.800</td>\n",
              "      <td>1.600</td>\n",
              "      <td>6.200</td>\n",
              "    </tr>\n",
              "    <tr>\n",
              "      <th>slope</th>\n",
              "      <td>303.000</td>\n",
              "      <td>1.399</td>\n",
              "      <td>0.616</td>\n",
              "      <td>0.000</td>\n",
              "      <td>1.000</td>\n",
              "      <td>1.000</td>\n",
              "      <td>2.000</td>\n",
              "      <td>2.000</td>\n",
              "    </tr>\n",
              "    <tr>\n",
              "      <th>ca</th>\n",
              "      <td>303.000</td>\n",
              "      <td>0.729</td>\n",
              "      <td>1.023</td>\n",
              "      <td>0.000</td>\n",
              "      <td>0.000</td>\n",
              "      <td>0.000</td>\n",
              "      <td>1.000</td>\n",
              "      <td>4.000</td>\n",
              "    </tr>\n",
              "    <tr>\n",
              "      <th>thal</th>\n",
              "      <td>303.000</td>\n",
              "      <td>2.314</td>\n",
              "      <td>0.612</td>\n",
              "      <td>0.000</td>\n",
              "      <td>2.000</td>\n",
              "      <td>2.000</td>\n",
              "      <td>3.000</td>\n",
              "      <td>3.000</td>\n",
              "    </tr>\n",
              "    <tr>\n",
              "      <th>target</th>\n",
              "      <td>303.000</td>\n",
              "      <td>0.545</td>\n",
              "      <td>0.499</td>\n",
              "      <td>0.000</td>\n",
              "      <td>0.000</td>\n",
              "      <td>1.000</td>\n",
              "      <td>1.000</td>\n",
              "      <td>1.000</td>\n",
              "    </tr>\n",
              "  </tbody>\n",
              "</table>\n",
              "</div>\n",
              "      <button class=\"colab-df-convert\" onclick=\"convertToInteractive('df-c7196a59-34ef-401f-b94c-fa80c178d179')\"\n",
              "              title=\"Convert this dataframe to an interactive table.\"\n",
              "              style=\"display:none;\">\n",
              "        \n",
              "  <svg xmlns=\"http://www.w3.org/2000/svg\" height=\"24px\"viewBox=\"0 0 24 24\"\n",
              "       width=\"24px\">\n",
              "    <path d=\"M0 0h24v24H0V0z\" fill=\"none\"/>\n",
              "    <path d=\"M18.56 5.44l.94 2.06.94-2.06 2.06-.94-2.06-.94-.94-2.06-.94 2.06-2.06.94zm-11 1L8.5 8.5l.94-2.06 2.06-.94-2.06-.94L8.5 2.5l-.94 2.06-2.06.94zm10 10l.94 2.06.94-2.06 2.06-.94-2.06-.94-.94-2.06-.94 2.06-2.06.94z\"/><path d=\"M17.41 7.96l-1.37-1.37c-.4-.4-.92-.59-1.43-.59-.52 0-1.04.2-1.43.59L10.3 9.45l-7.72 7.72c-.78.78-.78 2.05 0 2.83L4 21.41c.39.39.9.59 1.41.59.51 0 1.02-.2 1.41-.59l7.78-7.78 2.81-2.81c.8-.78.8-2.07 0-2.86zM5.41 20L4 18.59l7.72-7.72 1.47 1.35L5.41 20z\"/>\n",
              "  </svg>\n",
              "      </button>\n",
              "      \n",
              "  <style>\n",
              "    .colab-df-container {\n",
              "      display:flex;\n",
              "      flex-wrap:wrap;\n",
              "      gap: 12px;\n",
              "    }\n",
              "\n",
              "    .colab-df-convert {\n",
              "      background-color: #E8F0FE;\n",
              "      border: none;\n",
              "      border-radius: 50%;\n",
              "      cursor: pointer;\n",
              "      display: none;\n",
              "      fill: #1967D2;\n",
              "      height: 32px;\n",
              "      padding: 0 0 0 0;\n",
              "      width: 32px;\n",
              "    }\n",
              "\n",
              "    .colab-df-convert:hover {\n",
              "      background-color: #E2EBFA;\n",
              "      box-shadow: 0px 1px 2px rgba(60, 64, 67, 0.3), 0px 1px 3px 1px rgba(60, 64, 67, 0.15);\n",
              "      fill: #174EA6;\n",
              "    }\n",
              "\n",
              "    [theme=dark] .colab-df-convert {\n",
              "      background-color: #3B4455;\n",
              "      fill: #D2E3FC;\n",
              "    }\n",
              "\n",
              "    [theme=dark] .colab-df-convert:hover {\n",
              "      background-color: #434B5C;\n",
              "      box-shadow: 0px 1px 3px 1px rgba(0, 0, 0, 0.15);\n",
              "      filter: drop-shadow(0px 1px 2px rgba(0, 0, 0, 0.3));\n",
              "      fill: #FFFFFF;\n",
              "    }\n",
              "  </style>\n",
              "\n",
              "      <script>\n",
              "        const buttonEl =\n",
              "          document.querySelector('#df-c7196a59-34ef-401f-b94c-fa80c178d179 button.colab-df-convert');\n",
              "        buttonEl.style.display =\n",
              "          google.colab.kernel.accessAllowed ? 'block' : 'none';\n",
              "\n",
              "        async function convertToInteractive(key) {\n",
              "          const element = document.querySelector('#df-c7196a59-34ef-401f-b94c-fa80c178d179');\n",
              "          const dataTable =\n",
              "            await google.colab.kernel.invokeFunction('convertToInteractive',\n",
              "                                                     [key], {});\n",
              "          if (!dataTable) return;\n",
              "\n",
              "          const docLinkHtml = 'Like what you see? Visit the ' +\n",
              "            '<a target=\"_blank\" href=https://colab.research.google.com/notebooks/data_table.ipynb>data table notebook</a>'\n",
              "            + ' to learn more about interactive tables.';\n",
              "          element.innerHTML = '';\n",
              "          dataTable['output_type'] = 'display_data';\n",
              "          await google.colab.output.renderOutput(dataTable, element);\n",
              "          const docLink = document.createElement('div');\n",
              "          docLink.innerHTML = docLinkHtml;\n",
              "          element.appendChild(docLink);\n",
              "        }\n",
              "      </script>\n",
              "    </div>\n",
              "  </div>\n",
              "  "
            ],
            "text/plain": [
              "           count    mean    std     min     25%     50%     75%     max\n",
              "age      303.000  54.366  9.082  29.000  47.500  55.000  61.000  77.000\n",
              "sex      303.000   0.683  0.466   0.000   0.000   1.000   1.000   1.000\n",
              "cp       303.000   0.967  1.032   0.000   0.000   1.000   2.000   3.000\n",
              "trestbps 303.000 131.624 17.538  94.000 120.000 130.000 140.000 200.000\n",
              "chol     303.000 246.264 51.831 126.000 211.000 240.000 274.500 564.000\n",
              "fbs      303.000   0.149  0.356   0.000   0.000   0.000   0.000   1.000\n",
              "restecg  303.000   0.528  0.526   0.000   0.000   1.000   1.000   2.000\n",
              "thalach  303.000 149.647 22.905  71.000 133.500 153.000 166.000 202.000\n",
              "exang    303.000   0.327  0.470   0.000   0.000   0.000   1.000   1.000\n",
              "oldpeak  303.000   1.040  1.161   0.000   0.000   0.800   1.600   6.200\n",
              "slope    303.000   1.399  0.616   0.000   1.000   1.000   2.000   2.000\n",
              "ca       303.000   0.729  1.023   0.000   0.000   0.000   1.000   4.000\n",
              "thal     303.000   2.314  0.612   0.000   2.000   2.000   3.000   3.000\n",
              "target   303.000   0.545  0.499   0.000   0.000   1.000   1.000   1.000"
            ]
          },
          "metadata": {},
          "execution_count": 5
        }
      ]
    },
    {
      "cell_type": "code",
      "source": [
        "#Quantidade de nulos\n",
        "df.isnull().sum()"
      ],
      "metadata": {
        "colab": {
          "base_uri": "https://localhost:8080/"
        },
        "id": "X6i2u_8XO1CM",
        "outputId": "98848e6b-4ee4-4b35-937f-8eac725ff170"
      },
      "execution_count": 7,
      "outputs": [
        {
          "output_type": "execute_result",
          "data": {
            "text/plain": [
              "age         0\n",
              "sex         0\n",
              "cp          0\n",
              "trestbps    0\n",
              "chol        0\n",
              "fbs         0\n",
              "restecg     0\n",
              "thalach     0\n",
              "exang       0\n",
              "oldpeak     0\n",
              "slope       0\n",
              "ca          0\n",
              "thal        0\n",
              "target      0\n",
              "dtype: int64"
            ]
          },
          "metadata": {},
          "execution_count": 7
        }
      ]
    },
    {
      "cell_type": "code",
      "source": [
        "# Distruibuição da variáveis target\n",
        "plt.pie(df.target.value_counts(), labels = [\"target 0\", \"target 1\"], autopct='%1.1f%%', radius = 1.5, textprops = {\"fontsize\" : 16}) \n",
        "plt.show()"
      ],
      "metadata": {
        "colab": {
          "base_uri": "https://localhost:8080/",
          "height": 330
        },
        "id": "LuoQaXqgi682",
        "outputId": "fd8d8e5d-65b5-4488-a025-1e1888333e63"
      },
      "execution_count": 8,
      "outputs": [
        {
          "output_type": "display_data",
          "data": {
            "image/png": "[encoded data removed]",
            "text/plain": [
              "<Figure size 432x288 with 1 Axes>"
            ]
          },
          "metadata": {}
        }
      ]
    },
    {
      "cell_type": "markdown",
      "source": [
        "**Análise de Correlação**"
      ],
      "metadata": {
        "id": "ijPiGooIh7cR"
      }
    },
    {
      "cell_type": "code",
      "source": [
        "#Correlação\n",
        "plt.figure(figsize=(15,10))\n",
        "matrix = df.corr()\n",
        "mask = np.triu(np.ones_like(matrix, dtype=bool))\n",
        "sns.heatmap(matrix, mask=mask, annot=True)"
      ],
      "metadata": {
        "colab": {
          "base_uri": "https://localhost:8080/",
          "height": 630
        },
        "id": "fb6pfoeVQj42",
        "outputId": "901239d9-c18c-48b1-bf46-ad0634841dca"
      },
      "execution_count": 17,
      "outputs": [
        {
          "output_type": "execute_result",
          "data": {
            "text/plain": [
              "<matplotlib.axes._subplots.AxesSubplot at 0x7f38db7a7a10>"
            ]
          },
          "metadata": {},
          "execution_count": 17
        },
        {
          "output_type": "display_data",
          "data": {
            "image/png": "[encoded data removed]",
            "text/plain": [
              "<Figure size 1080x720 with 2 Axes>"
            ]
          },
          "metadata": {
            "needs_background": "light"
          }
        }
      ]
    },
    {
      "cell_type": "code",
      "source": [
        "matrix['target'].abs().sort_values(ascending=False)[:-1]"
      ],
      "metadata": {
        "colab": {
          "base_uri": "https://localhost:8080/"
        },
        "id": "XGrHHP0_R4kL",
        "outputId": "be071d56-2d65-47ae-c594-c669c232f470"
      },
      "execution_count": 18,
      "outputs": [
        {
          "output_type": "execute_result",
          "data": {
            "text/plain": [
              "target     1.000\n",
              "exang      0.437\n",
              "cp         0.434\n",
              "oldpeak    0.431\n",
              "thalach    0.422\n",
              "ca         0.392\n",
              "slope      0.346\n",
              "thal       0.344\n",
              "sex        0.281\n",
              "age        0.225\n",
              "trestbps   0.145\n",
              "restecg    0.137\n",
              "chol       0.085\n",
              "Name: target, dtype: float64"
            ]
          },
          "metadata": {},
          "execution_count": 18
        }
      ]
    },
    {
      "cell_type": "code",
      "source": [
        "sns.set(font_scale=2)\n",
        "plt.figure(figsize=(10, 10))\n",
        "sns.set_style(\"white\")\n",
        "sns.set_palette(\"bright\")\n",
        "matrix['target'].abs().sort_values(ascending=True)[:-1].plot.barh()\n",
        "plt.gca().set_facecolor('#FFFFFF')\n",
        "sns.despine()"
      ],
      "metadata": {
        "colab": {
          "base_uri": "https://localhost:8080/",
          "height": 565
        },
        "id": "Ro_3c7y8ngaz",
        "outputId": "851f4c6c-112e-42bc-8d67-821d31cf1dba"
      },
      "execution_count": 19,
      "outputs": [
        {
          "output_type": "display_data",
          "data": {
            "image/png": "[encoded data removed]",
            "text/plain": [
              "<Figure size 720x720 with 1 Axes>"
            ]
          },
          "metadata": {}
        }
      ]
    },
    {
      "cell_type": "markdown",
      "source": [
        "###Análise de Outliers\n"
      ],
      "metadata": {
        "id": "nnviEQFB-Tf_"
      }
    },
    {
      "cell_type": "code",
      "source": [
        "import matplotlib.pyplot as plt\n",
        "import matplotlib.gridspec as gridspec\n",
        "\n",
        "df_continuous = df[['age','trestbps','chol','thalach','oldpeak']]\n",
        "\n",
        "def draw_boxplots(df, selected_features):\n",
        "  n = len(selected_features)\n",
        "  fig = plt.figure(constrained_layout=True, figsize=(10, 10))\n",
        "  gs = gridspec.GridSpec(int(n/3) + 1, 3, figure=fig)\n",
        "  for i in range(n):\n",
        "    k = int(i / 3)\n",
        "    j = i % 3\n",
        "    col = selected_features[i]\n",
        "    ax = fig.add_subplot(gs[k, j])\n",
        "    ax.set_title(col)\n",
        "    ax.boxplot(df[col])\n",
        "\n",
        "draw_boxplots(df_continuous, df_continuous.columns)"
      ],
      "metadata": {
        "colab": {
          "base_uri": "https://localhost:8080/",
          "height": 645
        },
        "id": "9D6tNIMf9YpM",
        "outputId": "2e42cfa1-fca4-481d-d7bf-b76b98ea1b53"
      },
      "execution_count": 9,
      "outputs": [
        {
          "output_type": "display_data",
          "data": {
            "image/png": "[encoded data removed]",
            "text/plain": [
              "<Figure size 720x720 with 6 Axes>"
            ]
          },
          "metadata": {
            "needs_background": "light"
          }
        }
      ]
    },
    {
      "cell_type": "markdown",
      "source": [
        "**Eliminar outliers**"
      ],
      "metadata": {
        "id": "YwApGYHOet8J"
      }
    },
    {
      "cell_type": "code",
      "source": [
        "df_without_outlier = df.copy()"
      ],
      "metadata": {
        "id": "FCIxGs-5er-D"
      },
      "execution_count": 14,
      "outputs": []
    },
    {
      "cell_type": "code",
      "source": [
        "def replace_outliers(df, var_names):\n",
        "  for var_name in var_names:\n",
        "    # calculating Q1 and Q3\n",
        "    Q1 = df.loc[:,var_name].quantile(0.25)\n",
        "    Q3 = df.loc[:,var_name].quantile(0.75)\n",
        "    # calculating Interquartile IQR\n",
        "    IQR = Q3 - Q1\n",
        "    # build up filter\n",
        "    filter_up = (df.loc[:,var_name] > Q3 + 1.5 *IQR)\n",
        "    # apply up filter on df\n",
        "    df.loc[filter_up, var_name] = Q3 + 1.5 *IQR\n",
        "    # build down filter\n",
        "    filter_down = (df.loc[:,var_name] < Q1 - 1.5 * IQR)\n",
        "    # apply down filter on df\n",
        "    df.loc[filter_down, var_name] = Q1 - 1.5 * IQR"
      ],
      "metadata": {
        "id": "06_EJlTOfIie"
      },
      "execution_count": 12,
      "outputs": []
    },
    {
      "cell_type": "code",
      "source": [
        "replace_outliers(df_without_outlier, df_without_outlier.columns)\n",
        "draw_boxplots(df_without_outlier[['age','trestbps','chol','thalach','oldpeak']], df_without_outlier[['age','trestbps','chol','thalach','oldpeak']].columns)"
      ],
      "metadata": {
        "colab": {
          "base_uri": "https://localhost:8080/",
          "height": 764
        },
        "id": "Uk27_NcHfPDm",
        "outputId": "78b55e9c-b128-47dd-a21d-803fbf021db9"
      },
      "execution_count": 15,
      "outputs": [
        {
          "output_type": "display_data",
          "data": {
            "image/png": "[encoded data removed]",
            "text/plain": [
              "<Figure size 720x720 with 6 Axes>"
            ]
          },
          "metadata": {
            "needs_background": "light"
          }
        }
      ]
    },
    {
      "cell_type": "markdown",
      "source": [
        "**Histogramas**"
      ],
      "metadata": {
        "id": "tZNKcV_ihTk_"
      }
    },
    {
      "cell_type": "code",
      "source": [
        "def draw_histplots(df, selected_features):\n",
        "  n = len(selected_features)\n",
        "  fig = plt.figure(constrained_layout=True, figsize=(10, 10))\n",
        "  gs = gridspec.GridSpec(int(n/3) + 1, 3, figure=fig)\n",
        "  for i in range(n):\n",
        "    k = int(i / 3)\n",
        "    j = i % 3\n",
        "    col = selected_features[i]\n",
        "    ax = fig.add_subplot(gs[k, j])\n",
        "    ax.set_title(col)\n",
        "    ax.hist(df[col])\n",
        "\n",
        "draw_histplots(df_without_outlier, df_without_outlier.columns) "
      ],
      "metadata": {
        "colab": {
          "base_uri": "https://localhost:8080/",
          "height": 645
        },
        "id": "prSyRW5QDSJ1",
        "outputId": "eb72ae17-0145-4c52-a059-b63ae27bd7ee"
      },
      "execution_count": 16,
      "outputs": [
        {
          "output_type": "display_data",
          "data": {
            "image/png": "[encoded data removed]",
            "text/plain": [
              "<Figure size 720x720 with 15 Axes>"
            ]
          },
          "metadata": {
            "needs_background": "light"
          }
        }
      ]
    },
    {
      "cell_type": "markdown",
      "source": [
        "**Normalização do Dados**"
      ],
      "metadata": {
        "id": "Fzyi7tBUjA46"
      }
    },
    {
      "cell_type": "code",
      "source": [
        "# Separar os valores de atributo e alvo\n",
        "\n",
        "X = df_without_outlier.drop('target',axis=1)\n",
        "y = df_without_outlier['target']\n",
        "\n",
        "# Separar o conjunto em Treino/ Teste\n",
        "X_train, X_test, y_train, y_test = train_test_split(X, y, test_size=0.20)"
      ],
      "metadata": {
        "id": "6Cfks5sCoYP_"
      },
      "execution_count": 38,
      "outputs": []
    },
    {
      "cell_type": "code",
      "source": [
        "from sklearn.preprocessing import MaxAbsScaler"
      ],
      "metadata": {
        "id": "TC6pU09KjE9Y"
      },
      "execution_count": 23,
      "outputs": []
    },
    {
      "cell_type": "code",
      "source": [
        "max_scaler = MaxAbsScaler()"
      ],
      "metadata": {
        "id": "HPyIUKhxjMXi"
      },
      "execution_count": 24,
      "outputs": []
    },
    {
      "cell_type": "code",
      "source": [
        "X_train_max = max_scaler.fit_transform(X_train)"
      ],
      "metadata": {
        "id": "KIMYqt-bjdwk"
      },
      "execution_count": 39,
      "outputs": []
    },
    {
      "cell_type": "markdown",
      "source": [
        "**Padronização dos Dados**"
      ],
      "metadata": {
        "id": "NTNkeSL5kjrg"
      }
    },
    {
      "cell_type": "code",
      "source": [
        "from sklearn import preprocessing"
      ],
      "metadata": {
        "id": "8iPrEjAfknoc"
      },
      "execution_count": 29,
      "outputs": []
    },
    {
      "cell_type": "code",
      "source": [
        "std_scaler = preprocessing.StandardScaler(with_mean = False)"
      ],
      "metadata": {
        "id": "GBW6QFfbknwq"
      },
      "execution_count": 30,
      "outputs": []
    },
    {
      "cell_type": "code",
      "source": [
        "std_scaler.fit(X_train_max)\n",
        "X_train_stand = std_scaler.transform(X_train_max)"
      ],
      "metadata": {
        "id": "4gGQ0a_MlGL6"
      },
      "execution_count": 40,
      "outputs": []
    },
    {
      "cell_type": "code",
      "source": [
        "X_train_stand.shape"
      ],
      "metadata": {
        "colab": {
          "base_uri": "https://localhost:8080/"
        },
        "id": "nfMypEIclFyb",
        "outputId": "3ef3ee90-6a09-42b5-bb47-adf10e6bc403"
      },
      "execution_count": 41,
      "outputs": [
        {
          "output_type": "execute_result",
          "data": {
            "text/plain": [
              "(242, 13)"
            ]
          },
          "metadata": {},
          "execution_count": 41
        }
      ]
    },
    {
      "cell_type": "markdown",
      "source": [
        "##3.Modelo de ML"
      ],
      "metadata": {
        "id": "0-WcXwsd5XIN"
      }
    },
    {
      "cell_type": "markdown",
      "source": [
        "###a) Modelo de Decisio Tree\n"
      ],
      "metadata": {
        "id": "St4E8kXu6yRS"
      }
    },
    {
      "cell_type": "code",
      "source": [
        "clf = DecisionTreeClassifier(criterion=\"entropy\")\n",
        "clf.fit(X_train_stand,y_train)"
      ],
      "metadata": {
        "colab": {
          "base_uri": "https://localhost:8080/"
        },
        "id": "6iQEnEz06vyO",
        "outputId": "bb8af23f-5740-42f6-eb88-e7f7fa6412ee"
      },
      "execution_count": 45,
      "outputs": [
        {
          "output_type": "execute_result",
          "data": {
            "text/plain": [
              "DecisionTreeClassifier(criterion='entropy')"
            ]
          },
          "metadata": {},
          "execution_count": 45
        }
      ]
    },
    {
      "cell_type": "code",
      "source": [
        "y_pred = clf.predict(X_test)\n",
        "print(f\"Acurácia: {accuracy_score(y_test, y_pred)*100}%\")"
      ],
      "metadata": {
        "colab": {
          "base_uri": "https://localhost:8080/"
        },
        "id": "ZbLYPtFT7KuL",
        "outputId": "f0ec5428-1f9e-49eb-8881-d2d573407a9b"
      },
      "execution_count": 46,
      "outputs": [
        {
          "output_type": "stream",
          "name": "stdout",
          "text": [
            "Acurácia: 72.1311475409836%\n"
          ]
        },
        {
          "output_type": "stream",
          "name": "stderr",
          "text": [
            "/usr/local/lib/python3.7/dist-packages/sklearn/base.py:444: UserWarning: X has feature names, but DecisionTreeClassifier was fitted without feature names\n",
            "  f\"X has feature names, but {self.__class__.__name__} was fitted without\"\n"
          ]
        }
      ]
    },
    {
      "cell_type": "markdown",
      "source": [
        "###b) Modelo Random Forest"
      ],
      "metadata": {
        "id": "58GxBp6D7XMg"
      }
    },
    {
      "cell_type": "code",
      "source": [
        "from sklearn.ensemble import RandomForestClassifier\n",
        "\n",
        "clf = RandomForestClassifier(criterion='entropy', n_estimators=150) \n",
        "clf.fit(X_train_stand,y_train)"
      ],
      "metadata": {
        "colab": {
          "base_uri": "https://localhost:8080/"
        },
        "id": "X0ERG9Vv7QQs",
        "outputId": "d90d4341-7361-4cf7-dcc2-2e1ff6c8256a"
      },
      "execution_count": 47,
      "outputs": [
        {
          "output_type": "execute_result",
          "data": {
            "text/plain": [
              "RandomForestClassifier(criterion='entropy', n_estimators=150)"
            ]
          },
          "metadata": {},
          "execution_count": 47
        }
      ]
    },
    {
      "cell_type": "code",
      "source": [
        "y_pred = clf.predict(X_test)\n",
        "\n",
        "print(f\"Acurácia: {accuracy_score(y_test, y_pred)*100}%\")"
      ],
      "metadata": {
        "colab": {
          "base_uri": "https://localhost:8080/"
        },
        "id": "-8DG6Lsp7UIt",
        "outputId": "00c790f3-45ae-4a15-ddef-20b840317e28"
      },
      "execution_count": 48,
      "outputs": [
        {
          "output_type": "stream",
          "name": "stdout",
          "text": [
            "Acurácia: 68.85245901639344%\n"
          ]
        },
        {
          "output_type": "stream",
          "name": "stderr",
          "text": [
            "/usr/local/lib/python3.7/dist-packages/sklearn/base.py:444: UserWarning: X has feature names, but RandomForestClassifier was fitted without feature names\n",
            "  f\"X has feature names, but {self.__class__.__name__} was fitted without\"\n"
          ]
        }
      ]
    },
    {
      "cell_type": "code",
      "source": [
        "print(f'F1 score: {f1_score(y_test, y_pred, average=None)}')\n"
      ],
      "metadata": {
        "colab": {
          "base_uri": "https://localhost:8080/"
        },
        "id": "RQzTfldP7cdW",
        "outputId": "c5db93d1-c7b3-471c-973e-e52350d103c5"
      },
      "execution_count": 58,
      "outputs": [
        {
          "output_type": "stream",
          "name": "stdout",
          "text": [
            "F1 score: [0.77777778 0.82352941]\n"
          ]
        }
      ]
    },
    {
      "cell_type": "markdown",
      "source": [
        "#4. Otimização de hiperparêmetros"
      ],
      "metadata": {
        "id": "lBgwLlbWz3KG"
      }
    },
    {
      "cell_type": "code",
      "source": [
        "from sklearn.model_selection import GridSearchCV"
      ],
      "metadata": {
        "id": "wM54JGEt0K6Z"
      },
      "execution_count": 49,
      "outputs": []
    },
    {
      "cell_type": "code",
      "source": [
        "param_grid = {\n",
        "    'bootstrap': [True, False],\n",
        "    'max_depth': [None, 80, 110],\n",
        "    'max_features': [None, 2, 3, 4],\n",
        "    'min_samples_leaf': [1,2,3],\n",
        "    'min_samples_split': [2, 3, 4],\n",
        "    'n_estimators': [50,100, 200],\n",
        "    'criterion':['gini', 'entropy']\n",
        "}"
      ],
      "metadata": {
        "id": "zs09IMWA0Yot"
      },
      "execution_count": 50,
      "outputs": []
    },
    {
      "cell_type": "code",
      "source": [
        "from sklearn.ensemble import RandomForestClassifier\n",
        "\n",
        "clf = RandomForestClassifier()\n",
        "\n",
        "grid_search = GridSearchCV(estimator=clf, param_grid=param_grid, \n",
        "                          cv=3, n_jobs=-1, verbose=2)\n",
        "\n",
        "grid_search.fit(X,y)"
      ],
      "metadata": {
        "colab": {
          "base_uri": "https://localhost:8080/"
        },
        "id": "Tsxy_XFg0gcz",
        "outputId": "eab576f4-154d-4deb-eef7-5f91258c2a41"
      },
      "execution_count": 70,
      "outputs": [
        {
          "output_type": "stream",
          "name": "stdout",
          "text": [
            "Fitting 3 folds for each of 1296 candidates, totalling 3888 fits\n"
          ]
        },
        {
          "output_type": "execute_result",
          "data": {
            "text/plain": [
              "GridSearchCV(cv=3, estimator=RandomForestClassifier(), n_jobs=-1,\n",
              "             param_grid={'bootstrap': [True, False],\n",
              "                         'criterion': ['gini', 'entropy'],\n",
              "                         'max_depth': [None, 80, 110],\n",
              "                         'max_features': [None, 2, 3, 4],\n",
              "                         'min_samples_leaf': [1, 2, 3],\n",
              "                         'min_samples_split': [2, 3, 4],\n",
              "                         'n_estimators': [50, 100, 200]},\n",
              "             verbose=2)"
            ]
          },
          "metadata": {},
          "execution_count": 70
        }
      ]
    },
    {
      "cell_type": "code",
      "source": [
        "grid_search.best_params_"
      ],
      "metadata": {
        "colab": {
          "base_uri": "https://localhost:8080/"
        },
        "id": "7Uq8dxNh0wYp",
        "outputId": "d8e2d8c1-9a0e-4b14-e547-7cf3f07b1e0b"
      },
      "execution_count": 53,
      "outputs": [
        {
          "output_type": "execute_result",
          "data": {
            "text/plain": [
              "{'bootstrap': True,\n",
              " 'criterion': 'gini',\n",
              " 'max_depth': 110,\n",
              " 'max_features': 2,\n",
              " 'min_samples_leaf': 3,\n",
              " 'min_samples_split': 4,\n",
              " 'n_estimators': 100}"
            ]
          },
          "metadata": {},
          "execution_count": 53
        }
      ]
    },
    {
      "cell_type": "code",
      "source": [
        "# Classificador Random Forest\n",
        "# Configurando com os melhores parametros encontrados pelo grid search\n",
        "\n",
        "clf_2 = RandomForestClassifier( bootstrap=True,\n",
        "                              criterion='gini',\n",
        "                              max_depth=110,\n",
        "                              max_features=2,\n",
        "                              min_samples_leaf=3,\n",
        "                              min_samples_split=4,\n",
        "                              n_estimators=100) \n",
        "clf_2.fit(X_train,y_train)"
      ],
      "metadata": {
        "colab": {
          "base_uri": "https://localhost:8080/"
        },
        "id": "RjJq_PDr00d-",
        "outputId": "cb5103f4-3e9c-4423-cf4d-153fb4facc09"
      },
      "execution_count": 65,
      "outputs": [
        {
          "output_type": "execute_result",
          "data": {
            "text/plain": [
              "RandomForestClassifier(max_depth=110, max_features=2, min_samples_leaf=3,\n",
              "                       min_samples_split=4)"
            ]
          },
          "metadata": {},
          "execution_count": 65
        }
      ]
    },
    {
      "cell_type": "code",
      "source": [
        " from sklearn.metrics import accuracy_score\n",
        "\n",
        "y_pred_2 = clf_2.predict(X_test)\n",
        "\n",
        "print(f\"Acurácia: {accuracy_score(y_test, y_pred_2)*100}%\")"
      ],
      "metadata": {
        "colab": {
          "base_uri": "https://localhost:8080/"
        },
        "id": "07MAKUIo1Arm",
        "outputId": "903bb202-efcd-44a5-9af1-d2ff42601b11"
      },
      "execution_count": 66,
      "outputs": [
        {
          "output_type": "stream",
          "name": "stdout",
          "text": [
            "Acurácia: 78.68852459016394%\n"
          ]
        }
      ]
    },
    {
      "cell_type": "code",
      "source": [
        "print(f'F1 score: {f1_score(y_test, y_pred_2, average=None)}')"
      ],
      "metadata": {
        "colab": {
          "base_uri": "https://localhost:8080/"
        },
        "id": "POEkRYfk75fl",
        "outputId": "00751613-5b8a-4fea-88bc-9ee3e7ed6682"
      },
      "execution_count": 67,
      "outputs": [
        {
          "output_type": "stream",
          "name": "stdout",
          "text": [
            "F1 score: [0.75471698 0.8115942 ]\n"
          ]
        }
      ]
    }
  ]
}